{
 "cells": [
  {
   "cell_type": "markdown",
   "id": "c6c25e50",
   "metadata": {},
   "source": [
    "## Lambdas\n",
    "#### Introduction\n",
    "\n",
    "Something seen in many languages is the concept of an **anonymous function** - which is a function without a name. This is fulfilled in the **lambda expression**, which reduces functions to one-line expressions. Interestingly, lambdas have roots in calculus, but we won't be discussing that here. \n",
    "\n",
    "#### Lambda Expressions in Python\n",
    "\n",
    "Lambda expressions allow for one-lined functions to be nameless in Python. We don't want all functions to be defined; unfortunately, Python doesn't have multiline anonymous expressions.\n",
    "\n",
    "Let's examine the same function put in different formats. First, here's a defined function:"
   ]
  },
  {
   "cell_type": "code",
   "execution_count": 2,
   "id": "a039ca50",
   "metadata": {},
   "outputs": [],
   "source": [
    "def sum2(num1, num2):\n",
    "    return num1 + num2"
   ]
  },
  {
   "cell_type": "markdown",
   "id": "bbf52878",
   "metadata": {},
   "source": [
    "Now, lets suppose that we have that we have a list of grades and we call our sum2 function on it:"
   ]
  },
  {
   "cell_type": "code",
   "execution_count": 5,
   "id": "42b584be",
   "metadata": {},
   "outputs": [
    {
     "name": "stdout",
     "output_type": "stream",
     "text": [
      "194\n"
     ]
    }
   ],
   "source": [
    "grades = [98, 96, 88, 98, 99, 90, 87]\n",
    "\n",
    "print(sum2(grades[0], grades[1]))"
   ]
  },
  {
   "cell_type": "markdown",
   "id": "4da5eead",
   "metadata": {},
   "source": [
    "We can also simplify the expression to a one-line lambda expression. Generally, we want to use the following format for lambdas:\n",
    "\n",
    "`lambda parameter_name: return_expression`\n",
    "\n",
    "Let's see a lambda version of sum2; note that we'll have to use multiple parameters, so we'll use the following format:\n",
    "\n",
    "`lambda parameter1_name, parameter2_name: return_expression`"
   ]
  },
  {
   "cell_type": "code",
   "execution_count": 7,
   "id": "3b83bcd6",
   "metadata": {},
   "outputs": [
    {
     "name": "stdout",
     "output_type": "stream",
     "text": [
      "194\n"
     ]
    }
   ],
   "source": [
    "sum_things = lambda num1, num2: num1 + num2\n",
    "print(sum_things(grades[0], grades[1]))"
   ]
  },
  {
   "cell_type": "markdown",
   "id": "7a9f46ec",
   "metadata": {},
   "source": [
    "#### Filter\n",
    "\n",
    "The `filter()` method in Python allows us to test a variable for a condition and return true or false based on whether the variable meets the requirements. \n",
    "\n",
    "Let's say we want to see the grades that are greater than 90%. We can use filter to loop through the collection and return everything that meets the criteria mentioned. \n",
    "\n",
    "Here are the steps:\n",
    "\n",
    "1. Declare the variable to hold our grades over 90. We'll name that `grades_over_90`\n",
    "2. Create the filter expression, where the first parameter for `filter()` will be the lambda expression to return when the          number is great than `>` 90. The filter expression should be `filter(lambda x: x > 90),` and the second parameter will be the    collection - `grades`. Here's the code in practice:"
   ]
  },
  {
   "cell_type": "code",
   "execution_count": 10,
   "id": "f6efa6de",
   "metadata": {},
   "outputs": [],
   "source": [
    "grades_over_90 = filter(lambda x: x > 90, grades)"
   ]
  },
  {
   "cell_type": "markdown",
   "id": "37d648c3",
   "metadata": {},
   "source": [
    "Here's the same concept as a defined function:"
   ]
  },
  {
   "cell_type": "code",
   "execution_count": 11,
   "id": "48b3f03d",
   "metadata": {},
   "outputs": [
    {
     "data": {
      "text/plain": [
       "[98, 96, 98, 99]"
      ]
     },
     "execution_count": 11,
     "metadata": {},
     "output_type": "execute_result"
    }
   ],
   "source": [
    "def greaterThan90(grade):\n",
    "    if grade > 90:\n",
    "        return True\n",
    "    else:\n",
    "        return False\n",
    "\n",
    "grades_over_90 = filter(greaterThan90, grades)\n",
    "list(grades_over_90)"
   ]
  },
  {
   "cell_type": "markdown",
   "id": "c918748d",
   "metadata": {},
   "source": [
    "See that the function is really verbose and unnecessary compared to the lambda version?"
   ]
  },
  {
   "cell_type": "markdown",
   "id": "88c685a9",
   "metadata": {},
   "source": [
    "#### Map-Reduce Strategy"
   ]
  },
  {
   "cell_type": "markdown",
   "id": "99cc734c",
   "metadata": {},
   "source": [
    "We frequently use the **map-reduce** concept in lambdas. This is used primarily for data processing and functional programming.\n",
    "\n",
    "* **Mapping** is where we run over every item in a collection.\n",
    "\n",
    "* **Reducing** involves summarizing down to a single value.\n",
    "\n",
    "This is a pattern used in processing data, especially in large collections of data. Hadoop i sa tool used in Big Data, and Hadoop MapReduce operates on the map-reduce in dealing with large amounts of data - like terabytes - using thousands of computers to assist in the processing. "
   ]
  },
  {
   "cell_type": "markdown",
   "id": "0d3002c2",
   "metadata": {},
   "source": [
    "#### Map\n",
    "\n",
    "Mapping is done in Python by using the `map()` function. It effectively receives a collection and applies a function to each element. This further shows the anonymous nature of lambda expressions. The format for map() is `map(function, iterable)`\n",
    "\n",
    "Example 1:"
   ]
  },
  {
   "cell_type": "code",
   "execution_count": 12,
   "id": "5a0629ab",
   "metadata": {},
   "outputs": [
    {
     "data": {
      "text/plain": [
       "[1, 4, 9, 16]"
      ]
     },
     "execution_count": 12,
     "metadata": {},
     "output_type": "execute_result"
    }
   ],
   "source": [
    "numbers = range(1, 5)\n",
    "squares = map(lambda x: pow(x, 2), numbers)\n",
    "list(squares)"
   ]
  },
  {
   "cell_type": "markdown",
   "id": "e00cbd7e",
   "metadata": {},
   "source": [
    "Let's do another example:"
   ]
  },
  {
   "cell_type": "code",
   "execution_count": 13,
   "id": "d3e83f05",
   "metadata": {},
   "outputs": [
    {
     "data": {
      "text/plain": [
       "[7, 5, 5, 4, 7, 6, 6, 7]"
      ]
     },
     "execution_count": 13,
     "metadata": {},
     "output_type": "execute_result"
    }
   ],
   "source": [
    "planets = ['Mercury', 'Venus', 'Earth', 'Mars', 'Jupiter', 'Saturn', 'Uranus', 'Neptune']\n",
    "list(map(lambda x: len(x), planets))"
   ]
  },
  {
   "cell_type": "markdown",
   "id": "bce83896",
   "metadata": {},
   "source": [
    "Let's explain that. \n",
    "\n",
    "* We're creating a variable called `planets` that has a list of each of the planets' names.\n",
    "* We're calling the `list()` to display the output for a `map()` that takes in a lambda expression that returns the length         (`len()`) of everything passed in. The `map()` function's second parameter is the `planets` variable we created. "
   ]
  },
  {
   "cell_type": "markdown",
   "id": "8b8e1b97",
   "metadata": {},
   "source": [
    "#### Reduce\n",
    "\n",
    "Reducing takes a collection of values and summarizes the collection into a single value. This is achieved by using the `reduce()` function in the `functools` package in Python. With that in mind, we'll need to say `from functools import reduce`. \n",
    "\n",
    "In the following example, we're calculating the average temperature of our 10-day Hong Kong weather forecast:"
   ]
  },
  {
   "cell_type": "code",
   "execution_count": 14,
   "id": "b845120f",
   "metadata": {},
   "outputs": [
    {
     "name": "stdout",
     "output_type": "stream",
     "text": [
      "27.4\n"
     ]
    }
   ],
   "source": [
    "from functools import reduce\n",
    "\n",
    "hk_10day_forecast = [24,26,27,27,27,28,28,29,29,29]\n",
    "\n",
    "total_temp = reduce(lambda temp1, temp2: temp1 + temp2, hk_10day_forecast)\n",
    "print(total_temp/len(hk_10day_forecast))"
   ]
  },
  {
   "cell_type": "markdown",
   "id": "4c7a1684",
   "metadata": {},
   "source": [
    "If we want to find the minimum in a list with lambda and reduce, use the following example as a guide:"
   ]
  },
  {
   "cell_type": "code",
   "execution_count": 15,
   "id": "96cd5770",
   "metadata": {},
   "outputs": [
    {
     "data": {
      "text/plain": [
       "24"
      ]
     },
     "execution_count": 15,
     "metadata": {},
     "output_type": "execute_result"
    }
   ],
   "source": [
    "reduce(lambda temp1, temp2: temp1 if temp1 < temp2 else temp2, hk_10day_forecast)"
   ]
  },
  {
   "cell_type": "markdown",
   "id": "0f24ab34",
   "metadata": {},
   "source": [
    "#### Map-Reduce In Action\n",
    "\n",
    "To calculate the standard-deviation of some list, we do the following:\n",
    "\n",
    "* 1. import `sqrt` from the `math` package.\n",
    "* 2. import `reduce` from the `functools` package.\n",
    "* 3. Generate the sample using `range(1, 11)`.\n",
    "* 4. Calculate the standard deviation.\n",
    "\n",
    "Here's it in action:"
   ]
  },
  {
   "cell_type": "code",
   "execution_count": 17,
   "id": "35dc86e0",
   "metadata": {},
   "outputs": [
    {
     "name": "stdout",
     "output_type": "stream",
     "text": [
      "3.0276503540974917\n"
     ]
    }
   ],
   "source": [
    "from math import sqrt\n",
    "from functools import reduce\n",
    "\n",
    "numbers = range(1, 11)\n",
    "\n",
    "mean = sum(numbers)/len(numbers)\n",
    "\n",
    "list_of_mean_differences = map(lambda x: x - mean, numbers)\n",
    "\n",
    "list_of_squares = map(lambda x: pow(x, 2), list_of_mean_differences)\n",
    "\n",
    "sum_of_squares = reduce(lambda num1, num2: num1 + num2, list_of_squares)\n",
    "\n",
    "divisor = len(numbers) - 1\n",
    "\n",
    "calculated_std = sqrt(sum_of_squares/divisor)\n",
    "\n",
    "print(calculated_std)"
   ]
  },
  {
   "cell_type": "markdown",
   "id": "80b3a605",
   "metadata": {},
   "source": [
    "Of course, Python has the `stdev()` function as well. "
   ]
  },
  {
   "cell_type": "markdown",
   "id": "dca643e3",
   "metadata": {},
   "source": [
    "## Intro to Object-Oriented Programming\n",
    "\n",
    "#### What is Object-Oriented Programming?\n",
    "\n",
    "Object-oriented programming is a style of programming that relies on the concepts of objects, properties, and behaviors. The four pillars of object-oriented programming are as follows:\n",
    "\n",
    "* 1. Inheritance\n",
    "* 2. Polymorphism\n",
    "* 3. Encapsulation \n",
    "* 4. Abstraction\n",
    "\n",
    "Inheritance says that you can make an object as a base and build upon it, extending it. So when you create a Person class, any instance you create inherits properties from the `object` class. \n",
    "\n",
    "Polymorphism is the principle that in object-oriented programming, there are many forms of an individual. IE there are many roles a thing takes on, just as when I, Jared, walk around, I walk around both as a 22-year old and as a man.\n",
    "\n",
    "Abstraction is the principle that we only make public that which needs to be public. \n",
    "\n",
    "Encapsulation is the principle that you don't need to to see every step of everything. By keeping properties and methods restricted to within a class, we allow things to happen within the class without letting the outside impact it. "
   ]
  },
  {
   "cell_type": "markdown",
   "id": "089ddc6d",
   "metadata": {},
   "source": [
    "## Intro to Classes\n",
    "\n",
    "#### What are classes?\n",
    "\n",
    "**Classes** are blueprints for objects, including properties and behaviors. Properties are like attributes, while behaviors are like actions. \n",
    "\n",
    "Behaviors are represented by **methods**, which are special functions that live within a class. In Python, methods can take in a variety of parameters, though the first parameter is known as `self`. The `self` parameter represents a particular instance of the class. \n",
    "\n",
    "Let's show an example:"
   ]
  },
  {
   "cell_type": "code",
   "execution_count": 18,
   "id": "f878a6da",
   "metadata": {},
   "outputs": [],
   "source": [
    "class Person:\n",
    "    def __init__(self, name):\n",
    "        '''This is a Person'''\n",
    "        self._name = name\n",
    "    \n",
    "    def get_name(self):\n",
    "        return self._name\n",
    "    \n",
    "    def set_name(self):\n",
    "        self._name = name\n",
    "        \n",
    "    def move(self):\n",
    "        print(\"Moving\")"
   ]
  },
  {
   "cell_type": "markdown",
   "id": "a4a89aef",
   "metadata": {},
   "source": [
    "The `class` keyword identifies that this block of code contains properties and behaviors that make up an object. The class declaration includes the name of the class and may include the class it inherits from. As of Python 3, classes implicity inherit from the `object` class.\n",
    "\n",
    "Exceptions are a special type of object that need to inherit from the `Exception` base class rather than the `object` class. Our custom exception could look like this:"
   ]
  },
  {
   "cell_type": "code",
   "execution_count": 19,
   "id": "13a248ee",
   "metadata": {},
   "outputs": [],
   "source": [
    "class FizzBuzzException(Exception):\n",
    "    pass"
   ]
  },
  {
   "cell_type": "markdown",
   "id": "1a1f4a87",
   "metadata": {},
   "source": [
    "The triple-quoted text at the top of a Python-class is known as its doctring, which is the first statement after the class declaration. It's used for providing information on a class when called with `help()`.\n",
    "\n",
    "The **initializer method** known as `__init__()` has the parameter of `self` and is used as the code that it's the current instance. \n",
    "\n",
    "If we want to create a person, we need to use the following code:"
   ]
  },
  {
   "cell_type": "code",
   "execution_count": 20,
   "id": "9989cbe9",
   "metadata": {},
   "outputs": [],
   "source": [
    "person1 = Person('Sarah')"
   ]
  },
  {
   "cell_type": "markdown",
   "id": "eee8b19a",
   "metadata": {},
   "source": [
    "A property of an object typically involves two methods:\n",
    "\n",
    "* getters - also known as accessors, which are methods to get the current value of a property.\n",
    "* setters - also known as mutators, which are methods to set a value for a property."
   ]
  },
  {
   "cell_type": "markdown",
   "id": "889bc808",
   "metadata": {},
   "source": [
    "#### A Cleaner Way of Writing Classes\n",
    "\n",
    "We can bring the **decorator** in, which makes the syntax of coding a lot sweeter and easier to work with, easier to read overall. Decorators allow us to modify a function without changing the code of a function.\n",
    "\n",
    "For eample, the `@property` decorator allows us to indicate that a method is a setter for a property`"
   ]
  },
  {
   "cell_type": "markdown",
   "id": "bf1f9776",
   "metadata": {},
   "source": [
    "#### Deleting Objects\n",
    "\n",
    "We can delete objects using the `del` keyword. The general format is `del object`. \n",
    "\n",
    "We can also add the **deleter method** as follows:"
   ]
  },
  {
   "cell_type": "code",
   "execution_count": null,
   "id": "8520938a",
   "metadata": {},
   "outputs": [],
   "source": [
    "@name.deleter\n",
    "def name(self):\n",
    "    del self._name"
   ]
  },
  {
   "cell_type": "markdown",
   "id": "807b27cc",
   "metadata": {},
   "source": [
    "#### Bringing it All Together\n",
    "\n",
    "Here is our code in total:"
   ]
  },
  {
   "cell_type": "code",
   "execution_count": 22,
   "id": "9fb4a682",
   "metadata": {},
   "outputs": [],
   "source": [
    "class Person:\n",
    "    \"\"\"Person Class\"\"\"\n",
    "    def __init__(self, name):\n",
    "        print(\"Initializing name\")\n",
    "        self._name = name\n",
    "    \n",
    "    @property\n",
    "    def name(self):\n",
    "        print(\"Getting name\")\n",
    "        return self._name\n",
    "    \n",
    "    @name.setter\n",
    "    def name(self, new_name):\n",
    "        print(\"Setting name\")\n",
    "        self._name = new_name\n",
    "    \n",
    "    @name.deleter\n",
    "    def name(self):\n",
    "        print('Deleting name')\n",
    "        del self._name\n",
    "    \n",
    "    def move(self):\n",
    "        print(\"Moving\")"
   ]
  },
  {
   "cell_type": "code",
   "execution_count": 23,
   "id": "7f954430",
   "metadata": {},
   "outputs": [
    {
     "name": "stdout",
     "output_type": "stream",
     "text": [
      "Initializing name\n",
      "Initializing name\n"
     ]
    }
   ],
   "source": [
    "person1 = Person(\"Sarah\")\n",
    "person2 = Person(\"Mike\")"
   ]
  },
  {
   "cell_type": "code",
   "execution_count": 24,
   "id": "6fae4895",
   "metadata": {},
   "outputs": [
    {
     "name": "stdout",
     "output_type": "stream",
     "text": [
      "Getting name\n",
      "Mike\n"
     ]
    }
   ],
   "source": [
    "print(person2.name)"
   ]
  }
 ],
 "metadata": {
  "kernelspec": {
   "display_name": "Python 3 (ipykernel)",
   "language": "python",
   "name": "python3"
  },
  "language_info": {
   "codemirror_mode": {
    "name": "ipython",
    "version": 3
   },
   "file_extension": ".py",
   "mimetype": "text/x-python",
   "name": "python",
   "nbconvert_exporter": "python",
   "pygments_lexer": "ipython3",
   "version": "3.9.7"
  }
 },
 "nbformat": 4,
 "nbformat_minor": 5
}
